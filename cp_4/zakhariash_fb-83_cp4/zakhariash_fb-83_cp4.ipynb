{
 "cells": [
  {
   "cell_type": "code",
   "execution_count": 1,
   "metadata": {},
   "outputs": [],
   "source": [
    "import random\n",
    "import math    "
   ]
  },
  {
   "cell_type": "code",
   "execution_count": null,
   "metadata": {},
   "outputs": [],
   "source": [
    "def findPrime (amountbits, ):\n",
    "    "
   ]
  },
  {
   "cell_type": "code",
   "execution_count": 104,
   "metadata": {},
   "outputs": [],
   "source": [
    "def isPrime (p, k):\n",
    "    b = 10\n",
    "    for i in [2, 3, 5, 7, 11]:\n",
    "        num = 0\n",
    "        a = p\n",
    "        r = 1\n",
    "        while a > 0:\n",
    "            num += ((a%b)*r)%i\n",
    "            if a < b: break\n",
    "            a //= b\n",
    "            r = (r*b)%i\n",
    "        if math.gcd(i, num) > 1: return 0\n",
    "    d = p - 1\n",
    "    s = 0\n",
    "    while d%2 == 0:\n",
    "        s += 1\n",
    "        d /= 2\n",
    "    d = int(d)\n",
    "    for i in range (k):\n",
    "        x = random.randint(2, p-1)\n",
    "        if (math.gcd(x, p) > 1): return 0\n",
    "        else:\n",
    "            if ((pow(x, d, p) != 1) and (pow(x, d, p) != p-1)):\n",
    "                isPrime = 0\n",
    "                for r in range(1, s):\n",
    "                    xr = (x**(d*(2**r)))%p\n",
    "                    if xr == 1: return 0\n",
    "                    if xr == p-1: \n",
    "                        isPrime = 1\n",
    "                        break\n",
    "                if isPrime == 0: return 0\n",
    "    return 1                    "
   ]
  },
  {
   "cell_type": "code",
   "execution_count": 105,
   "metadata": {},
   "outputs": [],
   "source": [
    "x = isPrime(89, 2)"
   ]
  },
  {
   "cell_type": "code",
   "execution_count": 106,
   "metadata": {},
   "outputs": [
    {
     "data": {
      "text/plain": [
       "1"
      ]
     },
     "execution_count": 106,
     "metadata": {},
     "output_type": "execute_result"
    }
   ],
   "source": [
    "x"
   ]
  },
  {
   "cell_type": "code",
   "execution_count": 37,
   "metadata": {},
   "outputs": [
    {
     "data": {
      "text/plain": [
       "5"
      ]
     },
     "execution_count": 37,
     "metadata": {},
     "output_type": "execute_result"
    }
   ],
   "source": [
    "-7%6"
   ]
  },
  {
   "cell_type": "code",
   "execution_count": 80,
   "metadata": {},
   "outputs": [
    {
     "data": {
      "text/plain": [
       "1"
      ]
     },
     "execution_count": 80,
     "metadata": {},
     "output_type": "execute_result"
    }
   ],
   "source": [
    "(17**23)%47"
   ]
  },
  {
   "cell_type": "code",
   "execution_count": null,
   "metadata": {},
   "outputs": [],
   "source": []
  }
 ],
 "metadata": {
  "kernelspec": {
   "display_name": "Python 3",
   "language": "python",
   "name": "python3"
  },
  "language_info": {
   "codemirror_mode": {
    "name": "ipython",
    "version": 3
   },
   "file_extension": ".py",
   "mimetype": "text/x-python",
   "name": "python",
   "nbconvert_exporter": "python",
   "pygments_lexer": "ipython3",
   "version": "3.7.6"
  }
 },
 "nbformat": 4,
 "nbformat_minor": 4
}
