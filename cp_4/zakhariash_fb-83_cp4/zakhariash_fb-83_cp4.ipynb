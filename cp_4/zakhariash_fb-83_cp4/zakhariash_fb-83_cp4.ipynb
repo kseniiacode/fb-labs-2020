{
 "cells": [
  {
   "cell_type": "code",
   "execution_count": 2,
   "metadata": {},
   "outputs": [],
   "source": [
    "import random\n",
    "import math    "
   ]
  },
  {
   "cell_type": "code",
   "execution_count": 3,
   "metadata": {},
   "outputs": [],
   "source": [
    "def isPrime (p):\n",
    "    b = 10\n",
    "    for i in [2, 3, 5, 7, 11]:\n",
    "        num = 0\n",
    "        a = p\n",
    "        r = 1\n",
    "        while a > 0:\n",
    "            num += ((a%b)*r)%i\n",
    "            if a < b: break\n",
    "            a //= b\n",
    "            r = (r*b)%i\n",
    "        if math.gcd(i, num) > 1: return 0\n",
    "    d = p - 1\n",
    "    s = 0\n",
    "    while d%2 == 0:\n",
    "        s += 1\n",
    "        d /= 2\n",
    "    d = int(d)\n",
    "    for i in range (5):\n",
    "        x = random.randint(2, p-1)\n",
    "        if (math.gcd(x, p) > 1): return 0\n",
    "        else:\n",
    "            if ((pow(x, d, p) != 1) and (pow(x, d, p) != p-1)):\n",
    "                isPrime = 0\n",
    "                for r in range(1, s):\n",
    "                    xr = (x**(d*(2**r)))%p\n",
    "                    if xr == 1: return 0\n",
    "                    if xr == p-1: \n",
    "                        isPrime = 1\n",
    "                        break\n",
    "                if isPrime == 0: return 0\n",
    "    return 1                    "
   ]
  },
  {
   "cell_type": "code",
   "execution_count": 4,
   "metadata": {},
   "outputs": [],
   "source": [
    "def findPrime (amountbits):\n",
    "    p, m0 = 0, 0\n",
    "    print(1)\n",
    "    used_x = []\n",
    "    print(2)\n",
    "    n0 = int(('0b1' + '0'*(amountbits - 2) + '1'), 2)\n",
    "    print(3)\n",
    "    n1 = int(('0b' + '1'*amountbits), 2)    \n",
    "    print(4)\n",
    "    x = random.randint(n0, n1)\n",
    "    print(5)\n",
    "    while x in used_x:\n",
    "        x = random.randint(n0, n1)\n",
    "    used_x.append(x)\n",
    "    print(x)\n",
    "    if(x%2 == 0):\n",
    "        m0 = x+1\n",
    "    else:\n",
    "        m0 = x\n",
    "    for i in range(int((n1 - m0)/2)):\n",
    "        if (isPrime(m0 + 2*i)):\n",
    "            p = m0 + 2*i\n",
    "            break\n",
    "    print(p)\n",
    "    return p"
   ]
  },
  {
   "cell_type": "code",
   "execution_count": null,
   "metadata": {},
   "outputs": [],
   "source": [
    "p, q = findPrime(256), findPrime(256)\n",
    "p1, q1 = findPrime(256), findPrime(256)\n",
    "if (p*q >= p1*q1):\n",
    "    p, p1 = p1, p\n",
    "    q, q1 = q1, q"
   ]
  },
  {
   "cell_type": "code",
   "execution_count": null,
   "metadata": {},
   "outputs": [],
   "source": [
    "p, q = findPrime(256), findPrime(256)"
   ]
  },
  {
   "cell_type": "code",
   "execution_count": 10,
   "metadata": {},
   "outputs": [
    {
     "name": "stdout",
     "output_type": "stream",
     "text": [
      "0\n"
     ]
    }
   ],
   "source": [
    "print(isPrime(11))"
   ]
  },
  {
   "cell_type": "code",
   "execution_count": null,
   "metadata": {},
   "outputs": [],
   "source": [
    "x = findPrime(80)"
   ]
  },
  {
   "cell_type": "code",
   "execution_count": null,
   "metadata": {},
   "outputs": [],
   "source": [
    "x"
   ]
  },
  {
   "cell_type": "code",
   "execution_count": null,
   "metadata": {},
   "outputs": [],
   "source": [
    "%%timeit\n",
    "x = findPrime(50)"
   ]
  },
  {
   "cell_type": "code",
   "execution_count": 1,
   "metadata": {},
   "outputs": [
    {
     "name": "stdout",
     "output_type": "stream",
     "text": [
      "0\n",
      "1\n",
      "2\n",
      "3\n"
     ]
    }
   ],
   "source": []
  },
  {
   "cell_type": "code",
   "execution_count": null,
   "metadata": {},
   "outputs": [],
   "source": []
  },
  {
   "cell_type": "code",
   "execution_count": null,
   "metadata": {},
   "outputs": [],
   "source": []
  }
 ],
 "metadata": {
  "kernelspec": {
   "display_name": "Python 3",
   "language": "python",
   "name": "python3"
  }
 },
 "nbformat": 4,
 "nbformat_minor": 4
}
