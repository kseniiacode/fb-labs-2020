{
 "cells": [
  {
   "cell_type": "code",
   "execution_count": 37,
   "metadata": {},
   "outputs": [],
   "source": [
    "import codecs\n",
    "f = codecs.open('book.txt', 'r', 'utf-8')\n",
    "data = f.read()"
   ]
  },
  {
   "cell_type": "code",
   "execution_count": 38,
   "metadata": {},
   "outputs": [],
   "source": [
    "import re\n",
    "def filtr(data):\n",
    "    reg = re.compile('[^а-яА-ЯёЁ ]')\n",
    "    data = reg.sub('', data)\n",
    "    data = re.sub(' +', ' ', data)\n",
    "    data = data.lower()\n",
    "    data = data.replace('ъ', 'ь')\n",
    "    data = data.replace('ё', 'е')\n",
    "    return data"
   ]
  },
  {
   "cell_type": "code",
   "execution_count": 39,
   "metadata": {},
   "outputs": [],
   "source": [
    "data = filtr(data)"
   ]
  },
  {
   "cell_type": "code",
   "execution_count": 40,
   "metadata": {},
   "outputs": [
    {
     "data": {
      "text/plain": [
       "{' ': 108166,\n",
       " 'л': 26660,\n",
       " 'е': 59721,\n",
       " 'с': 36080,\n",
       " 'т': 45931,\n",
       " 'р': 31950,\n",
       " 'у': 14263,\n",
       " 'о': 72077,\n",
       " 'б': 12362,\n",
       " 'д': 19553,\n",
       " 'щ': 3138,\n",
       " 'к': 20932,\n",
       " 'а': 47394,\n",
       " 'п': 18185,\n",
       " 'и': 56634,\n",
       " 'з': 9552,\n",
       " 'м': 21416,\n",
       " 'г': 10783,\n",
       " 'н': 46975,\n",
       " 'я': 12227,\n",
       " 'ш': 4419,\n",
       " 'э': 3075,\n",
       " 'ч': 9385,\n",
       " 'ы': 14914,\n",
       " 'ф': 2255,\n",
       " 'ю': 5049,\n",
       " 'в': 29682,\n",
       " 'й': 7718,\n",
       " 'ц': 4261,\n",
       " 'х': 7491,\n",
       " 'ь': 12465,\n",
       " 'ж': 6064}"
      ]
     },
     "execution_count": 40,
     "metadata": {},
     "output_type": "execute_result"
    }
   ],
   "source": [
    "d = dict.fromkeys(data, 0)\n",
    "for symb in data:\n",
    "    d[symb] += 1\n",
    "d"
   ]
  },
  {
   "cell_type": "code",
   "execution_count": 41,
   "metadata": {},
   "outputs": [],
   "source": [
    "for key in d:\n",
    "    d[key] /= len(data)"
   ]
  },
  {
   "cell_type": "code",
   "execution_count": 42,
   "metadata": {},
   "outputs": [
    {
     "data": {
      "text/plain": [
       "{' ': 0.13853635545104429,\n",
       " 'л': 0.034145473035194426,\n",
       " 'е': 0.07648918961496048,\n",
       " 'с': 0.046210377611020814,\n",
       " 'т': 0.058827296398331404,\n",
       " 'р': 0.04092077507406084,\n",
       " 'у': 0.01826769999628575,\n",
       " 'о': 0.09231445086112937,\n",
       " 'б': 0.01583294589876495,\n",
       " 'д': 0.025043002035152164,\n",
       " 'щ': 0.00401907330774344,\n",
       " 'к': 0.02680919135681507,\n",
       " 'а': 0.06070107085633926,\n",
       " 'п': 0.023290901243248712,\n",
       " 'и': 0.07253543585428361,\n",
       " 'з': 0.012233966932939879,\n",
       " 'м': 0.027429086666231204,\n",
       " 'г': 0.013810601490566449,\n",
       " 'н': 0.060164425950047194,\n",
       " 'я': 0.015660041215353422,\n",
       " 'ш': 0.005659746637003907,\n",
       " 'э': 0.0039383844554847286,\n",
       " 'ч': 0.012020077435682659,\n",
       " 'ы': 0.019101484802959104,\n",
       " 'ф': 0.002888148600688801,\n",
       " 'ю': 0.006466635159591023,\n",
       " 'в': 0.038015976392747224,\n",
       " 'й': 0.0098850247894085,\n",
       " 'ц': 0.00545738411864079,\n",
       " 'х': 0.009594288766190602,\n",
       " 'ь': 0.01596486576833078,\n",
       " 'ж': 0.007766622223759153}"
      ]
     },
     "execution_count": 42,
     "metadata": {},
     "output_type": "execute_result"
    }
   ],
   "source": [
    "d\n"
   ]
  },
  {
   "cell_type": "code",
   "execution_count": 22,
   "metadata": {},
   "outputs": [],
   "source": [
    "import pandas as pd\n",
    "df = pd.DataFrame.from_dict(d, orient='index', columns=['freq'])"
   ]
  },
  {
   "cell_type": "code",
   "execution_count": 23,
   "metadata": {},
   "outputs": [
    {
     "data": {
      "text/html": [
       "<div>\n",
       "<style scoped>\n",
       "    .dataframe tbody tr th:only-of-type {\n",
       "        vertical-align: middle;\n",
       "    }\n",
       "\n",
       "    .dataframe tbody tr th {\n",
       "        vertical-align: top;\n",
       "    }\n",
       "\n",
       "    .dataframe thead th {\n",
       "        text-align: right;\n",
       "    }\n",
       "</style>\n",
       "<table border=\"1\" class=\"dataframe\">\n",
       "  <thead>\n",
       "    <tr style=\"text-align: right;\">\n",
       "      <th></th>\n",
       "      <th>freq</th>\n",
       "    </tr>\n",
       "  </thead>\n",
       "  <tbody>\n",
       "    <tr>\n",
       "      <th></th>\n",
       "      <td>0.138536</td>\n",
       "    </tr>\n",
       "    <tr>\n",
       "      <th>о</th>\n",
       "      <td>0.092314</td>\n",
       "    </tr>\n",
       "    <tr>\n",
       "      <th>е</th>\n",
       "      <td>0.076489</td>\n",
       "    </tr>\n",
       "    <tr>\n",
       "      <th>и</th>\n",
       "      <td>0.072535</td>\n",
       "    </tr>\n",
       "    <tr>\n",
       "      <th>а</th>\n",
       "      <td>0.060701</td>\n",
       "    </tr>\n",
       "    <tr>\n",
       "      <th>н</th>\n",
       "      <td>0.060164</td>\n",
       "    </tr>\n",
       "    <tr>\n",
       "      <th>т</th>\n",
       "      <td>0.058827</td>\n",
       "    </tr>\n",
       "    <tr>\n",
       "      <th>с</th>\n",
       "      <td>0.046210</td>\n",
       "    </tr>\n",
       "    <tr>\n",
       "      <th>р</th>\n",
       "      <td>0.040921</td>\n",
       "    </tr>\n",
       "    <tr>\n",
       "      <th>в</th>\n",
       "      <td>0.038016</td>\n",
       "    </tr>\n",
       "    <tr>\n",
       "      <th>л</th>\n",
       "      <td>0.034145</td>\n",
       "    </tr>\n",
       "    <tr>\n",
       "      <th>м</th>\n",
       "      <td>0.027429</td>\n",
       "    </tr>\n",
       "    <tr>\n",
       "      <th>к</th>\n",
       "      <td>0.026809</td>\n",
       "    </tr>\n",
       "    <tr>\n",
       "      <th>д</th>\n",
       "      <td>0.025043</td>\n",
       "    </tr>\n",
       "    <tr>\n",
       "      <th>п</th>\n",
       "      <td>0.023291</td>\n",
       "    </tr>\n",
       "    <tr>\n",
       "      <th>ы</th>\n",
       "      <td>0.019101</td>\n",
       "    </tr>\n",
       "    <tr>\n",
       "      <th>у</th>\n",
       "      <td>0.018268</td>\n",
       "    </tr>\n",
       "    <tr>\n",
       "      <th>ь</th>\n",
       "      <td>0.015965</td>\n",
       "    </tr>\n",
       "    <tr>\n",
       "      <th>б</th>\n",
       "      <td>0.015833</td>\n",
       "    </tr>\n",
       "    <tr>\n",
       "      <th>я</th>\n",
       "      <td>0.015660</td>\n",
       "    </tr>\n",
       "    <tr>\n",
       "      <th>г</th>\n",
       "      <td>0.013811</td>\n",
       "    </tr>\n",
       "    <tr>\n",
       "      <th>з</th>\n",
       "      <td>0.012234</td>\n",
       "    </tr>\n",
       "    <tr>\n",
       "      <th>ч</th>\n",
       "      <td>0.012020</td>\n",
       "    </tr>\n",
       "    <tr>\n",
       "      <th>й</th>\n",
       "      <td>0.009885</td>\n",
       "    </tr>\n",
       "    <tr>\n",
       "      <th>х</th>\n",
       "      <td>0.009594</td>\n",
       "    </tr>\n",
       "    <tr>\n",
       "      <th>ж</th>\n",
       "      <td>0.007767</td>\n",
       "    </tr>\n",
       "    <tr>\n",
       "      <th>ю</th>\n",
       "      <td>0.006467</td>\n",
       "    </tr>\n",
       "    <tr>\n",
       "      <th>ш</th>\n",
       "      <td>0.005660</td>\n",
       "    </tr>\n",
       "    <tr>\n",
       "      <th>ц</th>\n",
       "      <td>0.005457</td>\n",
       "    </tr>\n",
       "    <tr>\n",
       "      <th>щ</th>\n",
       "      <td>0.004019</td>\n",
       "    </tr>\n",
       "    <tr>\n",
       "      <th>э</th>\n",
       "      <td>0.003938</td>\n",
       "    </tr>\n",
       "    <tr>\n",
       "      <th>ф</th>\n",
       "      <td>0.002888</td>\n",
       "    </tr>\n",
       "  </tbody>\n",
       "</table>\n",
       "</div>"
      ],
      "text/plain": [
       "       freq\n",
       "   0.138536\n",
       "о  0.092314\n",
       "е  0.076489\n",
       "и  0.072535\n",
       "а  0.060701\n",
       "н  0.060164\n",
       "т  0.058827\n",
       "с  0.046210\n",
       "р  0.040921\n",
       "в  0.038016\n",
       "л  0.034145\n",
       "м  0.027429\n",
       "к  0.026809\n",
       "д  0.025043\n",
       "п  0.023291\n",
       "ы  0.019101\n",
       "у  0.018268\n",
       "ь  0.015965\n",
       "б  0.015833\n",
       "я  0.015660\n",
       "г  0.013811\n",
       "з  0.012234\n",
       "ч  0.012020\n",
       "й  0.009885\n",
       "х  0.009594\n",
       "ж  0.007767\n",
       "ю  0.006467\n",
       "ш  0.005660\n",
       "ц  0.005457\n",
       "щ  0.004019\n",
       "э  0.003938\n",
       "ф  0.002888"
      ]
     },
     "execution_count": 23,
     "metadata": {},
     "output_type": "execute_result"
    }
   ],
   "source": [
    "df.sort_values(by=['freq'], ascending = False)"
   ]
  },
  {
   "cell_type": "code",
   "execution_count": 24,
   "metadata": {},
   "outputs": [
    {
     "name": "stdout",
     "output_type": "stream",
     "text": [
      "-0.39505906399328855\n",
      "-0.16636227173179177\n",
      "-0.2836678336041207\n",
      "-0.2049725675144565\n",
      "-0.24044895329255142\n",
      "-0.18868662352796453\n",
      "-0.10548795138529055\n",
      "-0.31731243290430305\n",
      "-0.09469568537576141\n",
      "-0.1332149639629886\n",
      "-0.03198748852631387\n",
      "-0.13997423267101786\n",
      "-0.24536187580848448\n",
      "-0.1263319380949972\n",
      "-0.27455897171070565\n",
      "-0.07772195037695491\n",
      "-0.14230620517075754\n",
      "-0.08532300134546851\n",
      "-0.2439634675500525\n",
      "-0.09390963685991496\n",
      "-0.04225027359797666\n",
      "-0.031460525255732265\n",
      "-0.07666898211139911\n",
      "-0.10907275227870028\n",
      "-0.024363379872408737\n",
      "-0.04703034415780053\n",
      "-0.1793308777318217\n",
      "-0.06583960005275226\n",
      "-0.041026292740890466\n",
      "-0.06431635498229282\n",
      "-0.09529357759585869\n",
      "-0.05443234848638226\n"
     ]
    }
   ],
   "source": [
    "import math\n",
    "entropy1 = 0\n",
    "log = 0\n",
    "for index, row in df.iterrows():\n",
    "    log = math.log2(row['freq'])\n",
    "    entropy1 -= row['freq']*log\n",
    "    print(row['freq']*log)"
   ]
  },
  {
   "cell_type": "code",
   "execution_count": 25,
   "metadata": {},
   "outputs": [
    {
     "data": {
      "text/plain": [
       "4.422432424271201"
      ]
     },
     "execution_count": 25,
     "metadata": {},
     "output_type": "execute_result"
    }
   ],
   "source": [
    "entropy1"
   ]
  },
  {
   "cell_type": "code",
   "execution_count": null,
   "metadata": {},
   "outputs": [],
   "source": [
    "r_dict = dict(' ' : 0, '' : 1, )"
   ]
  },
  {
   "cell_type": "code",
   "execution_count": 34,
   "metadata": {},
   "outputs": [
    {
     "name": "stdout",
     "output_type": "stream",
     "text": [
      "0\n",
      "1\n",
      "2\n",
      "3\n",
      "4\n",
      "5\n",
      "6\n"
     ]
    }
   ],
   "source": [
    "import numpy as np\n",
    "bi1 = np.zeros((32, 32))\n",
    "for n in range(len(data) - 1):\n",
    "    "
   ]
  },
  {
   "cell_type": "code",
   "execution_count": null,
   "metadata": {},
   "outputs": [],
   "source": []
  }
 ],
 "metadata": {
  "kernelspec": {
   "display_name": "Python 3",
   "language": "python",
   "name": "python3"
  },
  "language_info": {
   "codemirror_mode": {
    "name": "ipython",
    "version": 3
   },
   "file_extension": ".py",
   "mimetype": "text/x-python",
   "name": "python",
   "nbconvert_exporter": "python",
   "pygments_lexer": "ipython3",
   "version": "3.7.6"
  }
 },
 "nbformat": 4,
 "nbformat_minor": 4
}
