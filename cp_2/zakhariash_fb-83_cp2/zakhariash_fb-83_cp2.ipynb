{
 "cells": [
  {
   "cell_type": "code",
   "execution_count": 17,
   "metadata": {},
   "outputs": [],
   "source": [
    "import codecs\n",
    "f = codecs.open('text.txt', 'r', 'utf-8')\n",
    "data = f.read()"
   ]
  },
  {
   "cell_type": "code",
   "execution_count": 18,
   "metadata": {},
   "outputs": [],
   "source": [
    "import re\n",
    "def filtr(data):  \n",
    "    reg = re.compile('[^а-яА-ЯёЁ]')\n",
    "    data = reg.sub('', data)\n",
    "    data = data.lower()\n",
    "    data = data.replace('ё', 'е')\n",
    "    return data"
   ]
  },
  {
   "cell_type": "code",
   "execution_count": 19,
   "metadata": {},
   "outputs": [],
   "source": [
    "data = filtr(data)"
   ]
  },
  {
   "cell_type": "code",
   "execution_count": 20,
   "metadata": {},
   "outputs": [],
   "source": [
    "def encrypt(data, key):\n",
    "    k = 0\n",
    "    res = ''\n",
    "    for s in data:\n",
    "        n = ord(s) + ord(key[k%len(key)]) - 1072*2\n",
    "        res += chr(n%32 + 1072)\n",
    "        k += 1\n",
    "    return res"
   ]
  },
  {
   "cell_type": "code",
   "execution_count": 21,
   "metadata": {},
   "outputs": [],
   "source": [
    "key2 = encrypt(data, 'ок')\n",
    "key3 = encrypt(data, 'кот')\n",
    "key4 = encrypt(data, 'окно')\n",
    "key5 = encrypt(data, 'каток')\n",
    "key12 = encrypt(data, 'шифровальщик')"
   ]
  },
  {
   "cell_type": "code",
   "execution_count": 58,
   "metadata": {},
   "outputs": [],
   "source": [
    "def confind (data):\n",
    "    i = 0\n",
    "    d = {}\n",
    "    d = dict.fromkeys(data, 0)\n",
    "    for symb in data:\n",
    "        d[symb] += 1\n",
    "    for key in d:\n",
    "        i += d[key]*(d[key]-1)\n",
    "    i /= len(data)*(len(data)-1)\n",
    "    return i"
   ]
  },
  {
   "cell_type": "code",
   "execution_count": 23,
   "metadata": {},
   "outputs": [],
   "source": [
    "d = confind(data)\n",
    "d2 = confind(key2)\n",
    "d3 = confind(key3)\n",
    "d4 = confind(key4)\n",
    "d5 = confind(key5)\n",
    "d12 = confind(key12)"
   ]
  },
  {
   "cell_type": "code",
   "execution_count": 24,
   "metadata": {},
   "outputs": [
    {
     "name": "stdout",
     "output_type": "stream",
     "text": [
      "0.058205120003411916\n",
      "0.04585825629871307\n",
      "0.041945217456204886\n",
      "0.04452014628581177\n",
      "0.03809615200076768\n",
      "0.03184808453016878\n"
     ]
    }
   ],
   "source": [
    "print(d)\n",
    "print(d2)\n",
    "print(d3)\n",
    "print(d4)\n",
    "print(d5)\n",
    "print(d12)"
   ]
  },
  {
   "cell_type": "code",
   "execution_count": 12,
   "metadata": {},
   "outputs": [],
   "source": [
    "#def freq(data):\n",
    "#    d = {}\n",
    "#    d = dict.fromkeys(data, 0)\n",
    "#    for symb in data:\n",
    "#        d[symb] += 1\n",
    "#    for key in d:\n",
    "#        d[key] /= len(data)\n",
    "#    return d"
   ]
  },
  {
   "cell_type": "markdown",
   "metadata": {},
   "source": [
    "Расшифровка текста из варианта"
   ]
  },
  {
   "cell_type": "code",
   "execution_count": 34,
   "metadata": {},
   "outputs": [],
   "source": [
    "f2 = codecs.open('encrypted.txt', 'r', 'utf-8')\n",
    "text = f2.read()"
   ]
  },
  {
   "cell_type": "code",
   "execution_count": 57,
   "metadata": {},
   "outputs": [],
   "source": [
    "text = filtr(text)"
   ]
  },
  {
   "cell_type": "code",
   "execution_count": 65,
   "metadata": {},
   "outputs": [],
   "source": [
    "def period(data):\n",
    "    conf=[]\n",
    "    for r in range (2, 31):\n",
    "        i = 0\n",
    "        sum = 0\n",
    "        for i in range (r):\n",
    "            sl = data[i::r]\n",
    "            sum+=confind(sl)\n",
    "        conf.append(sum/r)\n",
    "        print('{}: {}'.format(r, sum/r))\n",
    "    return conf"
   ]
  },
  {
   "cell_type": "code",
   "execution_count": 66,
   "metadata": {},
   "outputs": [
    {
     "name": "stdout",
     "output_type": "stream",
     "text": [
      "2: 0.03287753867743487\n",
      "3: 0.035514731636041075\n",
      "4: 0.03286069917884858\n",
      "5: 0.03895311386489468\n",
      "6: 0.03554998629687604\n",
      "7: 0.032811597918655386\n",
      "8: 0.03286383462780904\n",
      "9: 0.03553371007848463\n",
      "10: 0.039067157276406375\n",
      "11: 0.0328816224310756\n",
      "12: 0.035519540811583844\n",
      "13: 0.032756478213088844\n",
      "14: 0.0327225345585854\n",
      "15: 0.054124528325143445\n",
      "16: 0.03280807623186673\n",
      "17: 0.03284903154120664\n",
      "18: 0.03557346541839013\n",
      "19: 0.03259467863619295\n",
      "20: 0.039074228463814364\n",
      "21: 0.03521958910238\n",
      "22: 0.03294980112336163\n",
      "23: 0.03295411376697907\n",
      "24: 0.03541821786463308\n",
      "25: 0.03895466753126693\n",
      "26: 0.0328507548442532\n",
      "27: 0.035261236335872005\n",
      "28: 0.03253072566859217\n",
      "29: 0.03256384657889128\n",
      "30: 0.054126075651830925\n"
     ]
    }
   ],
   "source": [
    "indexes =period(text)"
   ]
  },
  {
   "cell_type": "code",
   "execution_count": null,
   "metadata": {},
   "outputs": [],
   "source": [
    "def freq(data):\n",
    "    d = {}\n",
    "    d = dict.fromkeys(data, 0)\n",
    "    for symb in data:\n",
    "        d[symb] += 1\n",
    "    for key in d:\n",
    "        d[key] /= len(data)\n",
    "    return d"
   ]
  }
 ],
 "metadata": {
  "kernelspec": {
   "display_name": "Python 3",
   "language": "python",
   "name": "python3"
  },
  "language_info": {
   "codemirror_mode": {
    "name": "ipython",
    "version": 3
   },
   "file_extension": ".py",
   "mimetype": "text/x-python",
   "name": "python",
   "nbconvert_exporter": "python",
   "pygments_lexer": "ipython3",
   "version": "3.7.6"
  }
 },
 "nbformat": 4,
 "nbformat_minor": 4
}
