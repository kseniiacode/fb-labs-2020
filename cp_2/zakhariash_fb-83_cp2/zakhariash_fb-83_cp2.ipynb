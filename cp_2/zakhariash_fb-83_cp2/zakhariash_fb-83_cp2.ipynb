{
 "cells": [
  {
   "cell_type": "code",
   "execution_count": 4,
   "metadata": {},
   "outputs": [],
   "source": [
    "import codecs\n",
    "f = codecs.open('text.txt', 'r', 'utf-8')\n",
    "data = f.read()"
   ]
  },
  {
   "cell_type": "code",
   "execution_count": 5,
   "metadata": {},
   "outputs": [],
   "source": [
    "import re\n",
    "def filtr(data):  \n",
    "    reg = re.compile('[^а-яА-ЯёЁ]')\n",
    "    data = reg.sub('', data)\n",
    "    data = data.lower()\n",
    "    data = data.replace('ё', 'е')\n",
    "    return data"
   ]
  },
  {
   "cell_type": "code",
   "execution_count": 6,
   "metadata": {},
   "outputs": [],
   "source": [
    "data = filtr(data)"
   ]
  },
  {
   "cell_type": "code",
   "execution_count": 7,
   "metadata": {},
   "outputs": [],
   "source": [
    "def encrypt(data, key):\n",
    "    k = 0\n",
    "    res = ''\n",
    "    for s in data:\n",
    "        n = ord(s) + ord(key[k%len(key)]) - 1072*2\n",
    "        res += chr(n%32 + 1072)\n",
    "        k += 1\n",
    "    return res"
   ]
  },
  {
   "cell_type": "code",
   "execution_count": 8,
   "metadata": {},
   "outputs": [],
   "source": [
    "key2 = encrypt(data, 'ок')\n",
    "key3 = encrypt(data, 'кот')\n",
    "key4 = encrypt(data, 'окно')\n",
    "key5 = encrypt(data, 'каток')\n",
    "key12 = encrypt(data, 'шифровальщик')"
   ]
  },
  {
   "cell_type": "code",
   "execution_count": 15,
   "metadata": {},
   "outputs": [],
   "source": [
    "def confind (data):\n",
    "    i = 0\n",
    "    d = {}\n",
    "    d = dict.fromkeys(data, 0)\n",
    "    for symb in data:\n",
    "        d[symb] += 1\n",
    "    for key in d:\n",
    "        i += d[key]*(d[key]-1)\n",
    "    i /= len(data)*(len(data)-1)\n",
    "    return i"
   ]
  },
  {
   "cell_type": "code",
   "execution_count": 18,
   "metadata": {},
   "outputs": [],
   "source": [
    "d = confind(data)\n",
    "d2 = confind(key2)\n",
    "d3 = confind(key3)\n",
    "d4 = confind(key4)\n",
    "d5 = confind(key5)\n",
    "d12 = confind(key12)"
   ]
  },
  {
   "cell_type": "code",
   "execution_count": 19,
   "metadata": {},
   "outputs": [
    {
     "name": "stdout",
     "output_type": "stream",
     "text": [
      "0.058205120003411916\n",
      "0.04585825629871307\n",
      "0.041945217456204886\n",
      "0.04452014628581177\n",
      "0.03809615200076768\n",
      "0.03184808453016878\n"
     ]
    }
   ],
   "source": [
    "print(d)\n",
    "print(d2)\n",
    "print(d3)\n",
    "print(d4)\n",
    "print(d5)\n",
    "print(d12)"
   ]
  },
  {
   "cell_type": "code",
   "execution_count": 12,
   "metadata": {},
   "outputs": [],
   "source": [
    "def freq(data):\n",
    "    d = {}\n",
    "    d = dict.fromkeys(data, 0)\n",
    "    for symb in data:\n",
    "        d[symb] += 1\n",
    "    for key in d:\n",
    "        d[key] /= len(data)\n",
    "    return d"
   ]
  },
  {
   "cell_type": "code",
   "execution_count": 14,
   "metadata": {},
   "outputs": [],
   "source": [
    "frequencies = freq(data)"
   ]
  },
  {
   "cell_type": "code",
   "execution_count": null,
   "metadata": {},
   "outputs": [],
   "source": []
  }
 ],
 "metadata": {
  "kernelspec": {
   "display_name": "Python 3",
   "language": "python",
   "name": "python3"
  },
  "language_info": {
   "codemirror_mode": {
    "name": "ipython",
    "version": 3
   },
   "file_extension": ".py",
   "mimetype": "text/x-python",
   "name": "python",
   "nbconvert_exporter": "python",
   "pygments_lexer": "ipython3",
   "version": "3.7.6"
  }
 },
 "nbformat": 4,
 "nbformat_minor": 4
}
