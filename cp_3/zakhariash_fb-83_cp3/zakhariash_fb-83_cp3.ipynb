{
 "cells": [
  {
   "cell_type": "code",
   "execution_count": 113,
   "metadata": {},
   "outputs": [],
   "source": [
    "def evclid (a, b):\n",
    "    if(b == 0):\n",
    "        return (1, 0, a)\n",
    "    v, u, d = evclid(b, a%b)\n",
    "    return (u, v - (a//b)*u, d)\n",
    "def obern (a, n):\n",
    "    u, v, d = evclid(a, n)\n",
    "    if d != 1: \n",
    "        print(\"No reverse\")\n",
    "        return 0\n",
    "    else: return u\n",
    "def rozv(a, b, n):\n",
    "    x = []\n",
    "    u, v, d = evclid(a, n)\n",
    "    if d == 1:\n",
    "        x.append((obern(a, n) * b)%n)\n",
    "    else: \n",
    "        if b%d != 0:\n",
    "            print(\"No solves\")\n",
    "        else:\n",
    "            x0 = rozv(a/d, b/d, n/d)\n",
    "            for i in range(d):\n",
    "                x.append(int(x0[0] + i*n/d))\n",
    "    return x"
   ]
  },
  {
   "cell_type": "code",
   "execution_count": 128,
   "metadata": {},
   "outputs": [],
   "source": [
    "import codecs\n",
    "f = codecs.open('10.txt', 'r', 'utf-8')\n",
    "data = f.read()"
   ]
  },
  {
   "cell_type": "code",
   "execution_count": 135,
   "metadata": {},
   "outputs": [],
   "source": [
    "import re\n",
    "def filtr(data):\n",
    "    reg = re.compile('[^а-яА-ЯёЁ]')\n",
    "    data = reg.sub('', data)\n",
    "    data = data.lower()\n",
    "    data = data.replace('ъ', 'ь')\n",
    "    data = data.replace('ё', 'е')\n",
    "    return data"
   ]
  },
  {
   "cell_type": "code",
   "execution_count": 158,
   "metadata": {},
   "outputs": [],
   "source": [
    "import numpy as np\n",
    "def bi_freq(data):\n",
    "    bi = np.zeros((31, 31))\n",
    "    try:\n",
    "        for n in range(0, len(data) - 1, 2):\n",
    "            if (ord(data[n]) > 1097) and (ord(data[n+1]) > 1097):                \n",
    "                bi[ord(data[n]) - 1073][ord(data[n+1]) - 1073] += 1\n",
    "            elif ord(data[n]) > 1097:\n",
    "                bi[ord(data[n]) - 1073][ord(data[n+1]) - 1072] += 1\n",
    "            elif ord(data[n+1]) > 1097:\n",
    "                bi[ord(data[n]) - 1072][ord(data[n+1]) - 1073] += 1\n",
    "            else:\n",
    "                bi[ord(data[n]) - 1072][ord(data[n+1]) - 1072] += 1\n",
    "    except:\n",
    "        print('break')\n",
    "        print(n)\n",
    "    bi = np.divide(bi, len(data)//2)\n",
    "    return bi"
   ]
  },
  {
   "cell_type": "code",
   "execution_count": 136,
   "metadata": {},
   "outputs": [],
   "source": [
    "data = filtr(data)\n",
    "freq = bi_freq(data)"
   ]
  },
  {
   "cell_type": "code",
   "execution_count": 155,
   "metadata": {},
   "outputs": [],
   "source": [
    "alf = ''\n",
    "a = ord('а')\n",
    "alf = alf.join([chr(i) for i in range(a, a+26)] + [chr(i) for i in range(a+27, a+32)])\n",
    "list_alf = list(alf)\n",
    "def max5(bi_freq):\n",
    "    most_freq = []\n",
    "    for i in range(5):\n",
    "        x = np.argmax(bi_freq) // bi_freq.shape[0]\n",
    "        y = np.argmax(bi_freq) % bi_freq.shape[1]\n",
    "        most_freq.append(list_alf[x] + list_alf[y])\n",
    "        bi_freq[x][y] = 0\n",
    "    return most_freq"
   ]
  },
  {
   "cell_type": "code",
   "execution_count": 156,
   "metadata": {},
   "outputs": [],
   "source": [
    "most_freq = max5(freq)"
   ]
  },
  {
   "cell_type": "code",
   "execution_count": 157,
   "metadata": {},
   "outputs": [
    {
     "data": {
      "text/plain": [
       "['ри', 'юм', 'рг', 'шй', 'ьц']"
      ]
     },
     "execution_count": 157,
     "metadata": {},
     "output_type": "execute_result"
    }
   ],
   "source": [
    "most_freq"
   ]
  },
  {
   "cell_type": "code",
   "execution_count": 178,
   "metadata": {},
   "outputs": [],
   "source": [
    "def numb(s):\n",
    "    num = 0\n",
    "    if ord(s) < 1098:\n",
    "        num = ord(s) - 1072\n",
    "    else: num = ord(s) - 1073\n",
    "    return num\n",
    "def bi_num(bi):\n",
    "    num = 0\n",
    "    num = numb(bi[0])*31 + numb(bi[1])\n",
    "    return num"
   ]
  },
  {
   "cell_type": "code",
   "execution_count": 179,
   "metadata": {},
   "outputs": [],
   "source": [
    "most = ['ст', 'но', 'то', 'на', 'ен']"
   ]
  },
  {
   "cell_type": "code",
   "execution_count": 182,
   "metadata": {},
   "outputs": [
    {
     "name": "stdout",
     "output_type": "stream",
     "text": [
      "545\n",
      "417\n",
      "572\n",
      "403\n",
      "168\n"
     ]
    }
   ],
   "source": [
    "for i in most:\n",
    "    print(bi_num(i))"
   ]
  },
  {
   "cell_type": "code",
   "execution_count": 181,
   "metadata": {},
   "outputs": [
    {
     "data": {
      "text/plain": [
       "545"
      ]
     },
     "execution_count": 181,
     "metadata": {},
     "output_type": "execute_result"
    }
   ],
   "source": [
    "bi_num('ст')"
   ]
  },
  {
   "cell_type": "code",
   "execution_count": 166,
   "metadata": {},
   "outputs": [
    {
     "data": {
      "text/plain": [
       "1098"
      ]
     },
     "execution_count": 166,
     "metadata": {},
     "output_type": "execute_result"
    }
   ],
   "source": [
    "ord('')"
   ]
  },
  {
   "cell_type": "code",
   "execution_count": null,
   "metadata": {},
   "outputs": [],
   "source": []
  }
 ],
 "metadata": {
  "kernelspec": {
   "display_name": "Python 3",
   "language": "python",
   "name": "python3"
  },
  "language_info": {
   "codemirror_mode": {
    "name": "ipython",
    "version": 3
   },
   "file_extension": ".py",
   "mimetype": "text/x-python",
   "name": "python",
   "nbconvert_exporter": "python",
   "pygments_lexer": "ipython3",
   "version": "3.7.6"
  }
 },
 "nbformat": 4,
 "nbformat_minor": 4
}
